{
  "nbformat": 4,
  "nbformat_minor": 0,
  "metadata": {
    "colab": {
      "private_outputs": true,
      "provenance": [],
      "authorship_tag": "ABX9TyPpQkDcDsgUYPo8KtbIZF11",
      "include_colab_link": true
    },
    "kernelspec": {
      "name": "python3",
      "display_name": "Python 3"
    },
    "language_info": {
      "name": "python"
    }
  },
  "cells": [
    {
      "cell_type": "markdown",
      "metadata": {
        "id": "view-in-github",
        "colab_type": "text"
      },
      "source": [
        "<a href=\"https://colab.research.google.com/github/DxAditya7881/Diwali-Sales-Analysis/blob/main/DiwaliSalesAnalysis.ipynb\" target=\"_parent\"><img src=\"https://colab.research.google.com/assets/colab-badge.svg\" alt=\"Open In Colab\"/></a>"
      ]
    },
    {
      "cell_type": "code",
      "source": [
        "import pandas as pd\n",
        "import numpy as np\n",
        "import matplotlib.pyplot as plt"
      ],
      "metadata": {
        "id": "ZFF7VxKownMY"
      },
      "execution_count": null,
      "outputs": []
    },
    {
      "cell_type": "code",
      "execution_count": null,
      "metadata": {
        "id": "8uAMrGZRwF99"
      },
      "outputs": [],
      "source": [
        "df = pd.read_csv('Diwali Sales Data.csv',encoding= 'unicode_escape')"
      ]
    },
    {
      "cell_type": "code",
      "source": [
        "df"
      ],
      "metadata": {
        "id": "gEmC_2amwuOY"
      },
      "execution_count": null,
      "outputs": []
    },
    {
      "cell_type": "code",
      "source": [
        "df.head()"
      ],
      "metadata": {
        "id": "LxoUrNoLwxPw"
      },
      "execution_count": null,
      "outputs": []
    },
    {
      "cell_type": "code",
      "source": [
        "df.info()"
      ],
      "metadata": {
        "id": "IJ_4Vumuw8-J"
      },
      "execution_count": null,
      "outputs": []
    },
    {
      "cell_type": "code",
      "source": [
        "df.drop(['Status','unnamed1'],axis=1,inplace=True)"
      ],
      "metadata": {
        "id": "jWOMlShzxImq"
      },
      "execution_count": null,
      "outputs": []
    },
    {
      "cell_type": "code",
      "source": [
        "df['Amount'].isnull().sum()"
      ],
      "metadata": {
        "id": "qfGi3woCyyE9"
      },
      "execution_count": null,
      "outputs": []
    },
    {
      "cell_type": "code",
      "source": [
        "df['Orders'].isnull().sum()"
      ],
      "metadata": {
        "id": "Uqh6r5F1iSsP"
      },
      "execution_count": null,
      "outputs": []
    },
    {
      "cell_type": "code",
      "source": [
        "df['Amount'].fillna(df['Amount'].median(),inplace=True)"
      ],
      "metadata": {
        "id": "CIZBfPAMy36H"
      },
      "execution_count": null,
      "outputs": []
    },
    {
      "cell_type": "code",
      "source": [
        "df['Amount'].isnull().sum()"
      ],
      "metadata": {
        "id": "ySqZ7dbTy8TV"
      },
      "execution_count": null,
      "outputs": []
    },
    {
      "cell_type": "code",
      "source": [
        "df.info\n",
        "df.head()"
      ],
      "metadata": {
        "id": "d53SJCJAy_s-"
      },
      "execution_count": null,
      "outputs": []
    },
    {
      "cell_type": "code",
      "source": [
        "df.groupby(['Gender'])[['Amount','Orders']].sum().sort_values(by='Orders',ascending=True)"
      ],
      "metadata": {
        "id": "bSfboWiu8AbG"
      },
      "execution_count": null,
      "outputs": []
    },
    {
      "cell_type": "code",
      "source": [
        "data = df.groupby(['Gender'])['Amount'].sum()\n",
        "plt.bar(data.index, data, label=['Male','Female'])\n",
        "plt.xlabel('Amount value')\n",
        "plt.ylabel('Gender')\n",
        "plt.title('Gender_Wise_Sale')"
      ],
      "metadata": {
        "id": "wlfWZ25b9ICw"
      },
      "execution_count": null,
      "outputs": []
    },
    {
      "cell_type": "code",
      "source": [
        "data"
      ],
      "metadata": {
        "id": "jtVBF9NM9ZoJ"
      },
      "execution_count": null,
      "outputs": []
    },
    {
      "cell_type": "code",
      "source": [
        "data = df.groupby(['Marital_Status'])['Amount'].sum()\n",
        "plt.bar(data.index,data,color= [\"g\",\"b\"])\n",
        "plt.xlabel('Amount value')\n",
        "plt.ylabel('Gender')\n",
        "plt.legend('M','F')\n",
        "plt.title('Marital_Wise_Sale')"
      ],
      "metadata": {
        "id": "HNfly_85-4Bb"
      },
      "execution_count": null,
      "outputs": []
    },
    {
      "cell_type": "code",
      "source": [
        "data = df.groupby(['Age Group'])['Amount'].sum()\n",
        "plt.barh(data.index,data,color= [\"g\",\"b\"])\n",
        "plt.xlabel('Amount value')\n",
        "plt.ylabel('Gender')\n",
        "plt.legend()\n",
        "plt.title('Age_Group_Wise_Sale')"
      ],
      "metadata": {
        "id": "b_8RlIFnBQs5"
      },
      "execution_count": null,
      "outputs": []
    },
    {
      "cell_type": "code",
      "source": [
        "data = df.groupby(['State'])['Amount'].sum()\n",
        "plt.bar(data.index,data)\n",
        "plt.xlabel('Amount value')\n",
        "plt.ylabel('State')\n",
        "plt.title('State_Wise_Sales')\n",
        "plt.xticks(rotation=90)"
      ],
      "metadata": {
        "id": "LyEJKkDACwa0"
      },
      "execution_count": null,
      "outputs": []
    },
    {
      "cell_type": "code",
      "source": [],
      "metadata": {
        "id": "nJ3FBPzVFD54"
      },
      "execution_count": null,
      "outputs": []
    }
  ]
}